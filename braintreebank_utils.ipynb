{
 "cells": [
  {
   "cell_type": "code",
   "execution_count": 2,
   "metadata": {},
   "outputs": [
    {
     "name": "stdout",
     "output_type": "stream",
     "text": [
      "[(1, 0), (1, 1), (1, 2), (2, 0), (2, 1), (2, 2), (2, 3), (2, 4), (2, 5), (2, 6), (3, 0), (3, 1), (3, 2), (4, 0), (4, 1), (4, 2), (5, 0), (6, 0), (6, 1), (6, 2), (7, 0), (7, 1), (8, 0), (9, 0), (10, 0), (10, 1)]\n"
     ]
    }
   ],
   "source": [
    "import numpy as np\n",
    "\n",
    "all_subject_trials = []\n",
    "for sub_id in range(1, 11):\n",
    "    for trial_id in np.arange([3, 7, 3, 3, 1, 3, 2, 1, 1, 2][sub_id-1]):\n",
    "        all_subject_trials.append((sub_id, trial_id))\n",
    "\n",
    "print(all_subject_trials)\n"
   ]
  },
  {
   "cell_type": "code",
   "execution_count": 3,
   "metadata": {},
   "outputs": [],
   "source": [
    "from braintreebank_process_chunks import *\n",
    "\n",
    "for sub_id, trial_id in all_subject_trials:\n",
    "    print(f\"Processing subject {sub_id} trial {trial_id}\")\n",
    "    subject = process_subject_trial(sub_id, trial_id)\n",
    "    subject.check_electrodes()"
   ]
  },
  {
   "cell_type": "code",
   "execution_count": null,
   "metadata": {},
   "outputs": [],
   "source": []
  }
 ],
 "metadata": {
  "kernelspec": {
   "display_name": "Python 3",
   "language": "python",
   "name": "python3"
  },
  "language_info": {
   "codemirror_mode": {
    "name": "ipython",
    "version": 3
   },
   "file_extension": ".py",
   "mimetype": "text/x-python",
   "name": "python",
   "nbconvert_exporter": "python",
   "pygments_lexer": "ipython3",
   "version": "3.12.5"
  }
 },
 "nbformat": 4,
 "nbformat_minor": 2
}
