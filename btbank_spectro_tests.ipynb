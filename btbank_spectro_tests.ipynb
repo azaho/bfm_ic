{
 "cells": [
  {
   "cell_type": "code",
   "execution_count": 1,
   "metadata": {},
   "outputs": [],
   "source": [
    "# Part of the code is adapted from https://braintreebank.dev/, file \"quickstart.ipynb\"\n",
    "\n",
    "import h5py\n",
    "import os\n",
    "import json\n",
    "import pandas as pd\n",
    "from scipy import signal, stats\n",
    "import numpy as np\n",
    "import argparse\n",
    "import matplotlib.pyplot as plt\n",
    "import seaborn as sns\n",
    "\n",
    "from braintreebank_config import *\n",
    "from braintreebank_utils import Subject"
   ]
  },
  {
   "cell_type": "code",
   "execution_count": 2,
   "metadata": {},
   "outputs": [],
   "source": [
    "subject_id = 1\n",
    "trial_id = 0\n",
    "\n",
    "subject = Subject(subject_id, allow_corrupted=False)\n",
    "subject.load_neural_data(trial_id)"
   ]
  },
  {
   "cell_type": "code",
   "execution_count": 3,
   "metadata": {},
   "outputs": [
    {
     "data": {
      "text/plain": [
       "(129, 54942)"
      ]
     },
     "execution_count": 3,
     "metadata": {},
     "output_type": "execute_result"
    }
   ],
   "source": [
    "electrode_label = subject.electrode_labels[0]\n",
    "\n",
    "f, t, Sxx = subject.get_spectrogram(electrode_label, trial_id, min_freq=None, max_freq=None)\n",
    "Sxx.shape"
   ]
  },
  {
   "cell_type": "code",
   "execution_count": 4,
   "metadata": {},
   "outputs": [
    {
     "data": {
      "text/plain": [
       "(129,)"
      ]
     },
     "execution_count": 4,
     "metadata": {},
     "output_type": "execute_result"
    }
   ],
   "source": [
    "f.shape"
   ]
  },
  {
   "cell_type": "code",
   "execution_count": 6,
   "metadata": {},
   "outputs": [
    {
     "data": {
      "text/plain": [
       "(14065377,)"
      ]
     },
     "execution_count": 6,
     "metadata": {},
     "output_type": "execute_result"
    }
   ],
   "source": [
    "data = subject.get_electrode_data(electrode_label, trial_id)\n",
    "data.shape"
   ]
  },
  {
   "cell_type": "code",
   "execution_count": 15,
   "metadata": {},
   "outputs": [
    {
     "data": {
      "text/plain": [
       "((129, 54942), (129,))"
      ]
     },
     "execution_count": 15,
     "metadata": {},
     "output_type": "execute_result"
    }
   ],
   "source": [
    "f, t, Sxx = signal.spectrogram(data, fs=subject.sampling_rate, nperseg=256, noverlap=0, window='boxcar', mode='magnitude')\n",
    "Sxx.shape, f.shape\n"
   ]
  },
  {
   "cell_type": "code",
   "execution_count": 16,
   "metadata": {},
   "outputs": [
    {
     "data": {
      "text/plain": [
       "array([5.88784672e-17, 5.37071406e+00, 5.61134752e+00, 1.70176052e+00,\n",
       "       1.16062720e+00, 1.17201896e+00, 1.32323370e+00, 8.06054606e-01,\n",
       "       2.32932648e+00, 1.08885772e+00, 8.78761844e-01, 9.31113004e-01,\n",
       "       3.05917062e-01, 1.00181767e+00, 5.14257653e-01, 3.33014000e-01,\n",
       "       5.45009096e-01, 5.00007313e-01, 3.84185639e-01, 3.47415516e-01,\n",
       "       3.06548881e-01, 4.48861383e-01, 4.97490575e-01, 1.11334929e-01,\n",
       "       1.66357865e-01, 2.36936392e-01, 2.54230435e-01, 3.00236865e-01,\n",
       "       1.87641349e-01, 2.07362651e-01, 2.42882280e-01, 1.72758713e-01,\n",
       "       1.20928049e-01, 1.77218227e-01, 1.88956970e-01, 1.71979490e-01,\n",
       "       2.26749714e-01, 1.55231152e-01, 4.21672843e-01, 2.28414148e-01,\n",
       "       2.07175690e-01, 1.11271008e-01, 2.27297761e-01, 2.37012826e-01,\n",
       "       1.88495118e-01, 2.92519829e-01, 1.45630776e-01, 1.35645796e-01,\n",
       "       1.92034220e-01, 2.23561785e-01, 1.59755180e-01, 1.64260274e-01,\n",
       "       3.60301773e-01, 1.08669447e-01, 7.39101109e-02, 1.26624654e-01,\n",
       "       1.43806042e-01, 1.87450834e-01, 1.51413655e-01, 1.36570226e-01,\n",
       "       1.16736106e-01, 1.16384733e-01, 1.50901254e-01, 1.20438700e-01,\n",
       "       1.54376389e-01, 1.04336367e-01, 1.31022852e-01, 1.64901801e-01,\n",
       "       1.76737160e-01, 1.61706081e-01, 8.58585113e-02, 1.51234397e-01,\n",
       "       9.75105732e-02, 9.30879904e-02, 1.08212391e-01, 8.07866441e-02,\n",
       "       9.04557739e-02, 8.93690917e-02, 5.68561199e-02, 1.08054776e-01,\n",
       "       9.23833501e-02, 9.46609289e-02, 7.95611605e-02, 1.00994904e-01,\n",
       "       9.47412118e-02, 1.04643508e-01, 8.77951736e-02, 2.42474063e-02,\n",
       "       1.52319518e-01, 8.83383983e-02, 7.67146123e-02, 6.77304913e-02,\n",
       "       8.27484162e-02, 9.57223983e-02, 9.66498099e-02, 5.71339712e-02,\n",
       "       8.75487500e-02, 5.74984623e-02, 1.30600453e-01, 7.70114502e-02,\n",
       "       6.59948899e-02, 1.29686447e-01, 1.07652727e-01, 6.76797305e-02,\n",
       "       8.58970901e-02, 6.98844202e-02, 1.21241193e-01, 1.05992680e-01,\n",
       "       8.93424321e-02, 9.84792676e-02, 6.30594930e-02, 1.05175802e-01,\n",
       "       7.04052163e-02, 7.83132033e-02, 9.90523260e-02, 9.92251241e-02,\n",
       "       8.24787137e-02, 8.16257670e-02, 7.87890519e-02, 8.76707919e-02,\n",
       "       8.47259364e-02, 8.88599795e-02, 8.46005171e-02, 8.13480761e-02,\n",
       "       8.41307364e-02, 8.52990832e-02, 8.71493602e-02, 8.13949283e-02,\n",
       "       8.73809383e-02])"
      ]
     },
     "execution_count": 16,
     "metadata": {},
     "output_type": "execute_result"
    }
   ],
   "source": [
    "Sxx[:, 0]"
   ]
  },
  {
   "cell_type": "code",
   "execution_count": 17,
   "metadata": {},
   "outputs": [
    {
     "data": {
      "text/plain": [
       "array([   0.,    8.,   16.,   24.,   32.,   40.,   48.,   56.,   64.,\n",
       "         72.,   80.,   88.,   96.,  104.,  112.,  120.,  128.,  136.,\n",
       "        144.,  152.,  160.,  168.,  176.,  184.,  192.,  200.,  208.,\n",
       "        216.,  224.,  232.,  240.,  248.,  256.,  264.,  272.,  280.,\n",
       "        288.,  296.,  304.,  312.,  320.,  328.,  336.,  344.,  352.,\n",
       "        360.,  368.,  376.,  384.,  392.,  400.,  408.,  416.,  424.,\n",
       "        432.,  440.,  448.,  456.,  464.,  472.,  480.,  488.,  496.,\n",
       "        504.,  512.,  520.,  528.,  536.,  544.,  552.,  560.,  568.,\n",
       "        576.,  584.,  592.,  600.,  608.,  616.,  624.,  632.,  640.,\n",
       "        648.,  656.,  664.,  672.,  680.,  688.,  696.,  704.,  712.,\n",
       "        720.,  728.,  736.,  744.,  752.,  760.,  768.,  776.,  784.,\n",
       "        792.,  800.,  808.,  816.,  824.,  832.,  840.,  848.,  856.,\n",
       "        864.,  872.,  880.,  888.,  896.,  904.,  912.,  920.,  928.,\n",
       "        936.,  944.,  952.,  960.,  968.,  976.,  984.,  992., 1000.,\n",
       "       1008., 1016., 1024.])"
      ]
     },
     "execution_count": 17,
     "metadata": {},
     "output_type": "execute_result"
    }
   ],
   "source": [
    "f"
   ]
  },
  {
   "cell_type": "code",
   "execution_count": null,
   "metadata": {},
   "outputs": [],
   "source": []
  }
 ],
 "metadata": {
  "kernelspec": {
   "display_name": ".venv",
   "language": "python",
   "name": "python3"
  },
  "language_info": {
   "codemirror_mode": {
    "name": "ipython",
    "version": 3
   },
   "file_extension": ".py",
   "mimetype": "text/x-python",
   "name": "python",
   "nbconvert_exporter": "python",
   "pygments_lexer": "ipython3",
   "version": "3.10.12"
  }
 },
 "nbformat": 4,
 "nbformat_minor": 2
}
