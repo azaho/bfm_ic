{
 "cells": [
  {
   "cell_type": "code",
   "execution_count": 1,
   "metadata": {},
   "outputs": [],
   "source": [
    "from ttt_unscuffed import *\n",
    "device = \"cuda\""
   ]
  },
  {
   "cell_type": "code",
   "execution_count": 2,
   "metadata": {},
   "outputs": [
    {
     "name": "stderr",
     "output_type": "stream",
     "text": [
      "/om2/user/zaho/bfm_ic/.venv/lib/python3.9/site-packages/torch/nn/modules/transformer.py:379: UserWarning: enable_nested_tensor is True, but self.use_nested_tensor is False because encoder_layer.norm_first was True\n",
      "  warnings.warn(\n"
     ]
    }
   ],
   "source": [
    "random_string = \"1\"\n",
    "training_config['random_string'] = random_string\n",
    "dir_name = update_dir_name()\n",
    "training_config['dir_name'] = dir_name\n",
    "\n",
    "batch_size = training_config['batch_size']\n",
    "dtype = transformer_config['dtype']\n",
    "subject_ids = set([subject_id for subject_id, trial_id in training_config['train_subject_trials']+training_config['eval_subject_trials']])\n",
    "subjects = {subject_id: Subject(subject_id) for subject_id in subject_ids}\n",
    "\n",
    "model = Model(transformer_config).to(device, dtype=dtype)\n",
    "electrode_embeddings = ElectrodeEmbeddings(transformer_config, subjects).to(device, dtype=dtype)"
   ]
  },
  {
   "cell_type": "code",
   "execution_count": 5,
   "metadata": {},
   "outputs": [
    {
     "name": "stdout",
     "output_type": "stream",
     "text": [
      "/om2/user/zaho/bfm_ic\n"
     ]
    }
   ],
   "source": [
    "!pwd"
   ]
  },
  {
   "cell_type": "code",
   "execution_count": 10,
   "metadata": {},
   "outputs": [
    {
     "name": "stdout",
     "output_type": "stream",
     "text": [
      "/net/vast-storage/scratch/vast/yanglab/zaho/bfm_ic\n"
     ]
    }
   ],
   "source": [
    "import os\n",
    "print(os.getcwd())\n",
    "\n"
   ]
  },
  {
   "cell_type": "code",
   "execution_count": 14,
   "metadata": {},
   "outputs": [
    {
     "name": "stderr",
     "output_type": "stream",
     "text": [
      "/tmp/ipykernel_3263175/761684621.py:2: FutureWarning: You are using `torch.load` with `weights_only=False` (the current default value), which uses the default pickle module implicitly. It is possible to construct malicious pickle data which will execute arbitrary code during unpickling (See https://github.com/pytorch/pytorch/blob/main/SECURITY.md#untrusted-models for more details). In a future release, the default value for `weights_only` will be flipped to `True`. This limits the functions that could be executed during unpickling. Arbitrary objects will no longer be allowed to be loaded via this mode unless they are explicitly allowlisted by the user via `torch.serialization.add_safe_globals`. We recommend you start setting `weights_only=True` for any use case where you don't have full control of the loaded file. Please open an issue on GitHub for any issues related to this experimental feature.\n",
      "  model.load_state_dict(torch.load(\"./\"+dir_name+\"/model_e\"+str(epoch_i)+\".pth\", map_location=device))\n",
      "/tmp/ipykernel_3263175/761684621.py:3: FutureWarning: You are using `torch.load` with `weights_only=False` (the current default value), which uses the default pickle module implicitly. It is possible to construct malicious pickle data which will execute arbitrary code during unpickling (See https://github.com/pytorch/pytorch/blob/main/SECURITY.md#untrusted-models for more details). In a future release, the default value for `weights_only` will be flipped to `True`. This limits the functions that could be executed during unpickling. Arbitrary objects will no longer be allowed to be loaded via this mode unless they are explicitly allowlisted by the user via `torch.serialization.add_safe_globals`. We recommend you start setting `weights_only=True` for any use case where you don't have full control of the loaded file. Please open an issue on GitHub for any issues related to this experimental feature.\n",
      "  electrode_embeddings.load_state_dict(torch.load(\"./\"+dir_name+\"/model_electrode_embeddings_e\"+str(epoch_i)+\".pth\", map_location=device))\n"
     ]
    },
    {
     "data": {
      "text/plain": [
       "<All keys matched successfully>"
      ]
     },
     "execution_count": 14,
     "metadata": {},
     "output_type": "execute_result"
    }
   ],
   "source": [
    "epoch_i = 301\n",
    "model.load_state_dict(torch.load(\"./\"+dir_name+\"/model_e\"+str(epoch_i)+\".pth\", map_location=device))\n",
    "electrode_embeddings.load_state_dict(torch.load(\"./\"+dir_name+\"/model_electrode_embeddings_e\"+str(epoch_i)+\".pth\", map_location=device))"
   ]
  },
  {
   "cell_type": "code",
   "execution_count": 15,
   "metadata": {},
   "outputs": [],
   "source": [
    "batch_size = 100"
   ]
  },
  {
   "cell_type": "code",
   "execution_count": 16,
   "metadata": {},
   "outputs": [
    {
     "name": "stdout",
     "output_type": "stream",
     "text": [
      "Loaded train and test dataloaders for subject 3 trial 1\n",
      "Loaded train and test dataloaders for subject 3 trial 2\n",
      "Loaded eval dataloaders\n"
     ]
    }
   ],
   "source": [
    "train_dataloaders = {}\n",
    "test_dataloaders = {}\n",
    "for subject_id, trial_id in training_config['train_subject_trials']:\n",
    "    full_dataset = BrainTreebankSubjectTrialDataset(subject_id=subject_id, trial_id=trial_id, dtype=dtype,\n",
    "                                                    n_time_bins=transformer_config['max_n_time_bins'], spectrogram=transformer_config['spectrogram'])\n",
    "    train_size = int((1 - training_config['p_test_chunks']) * len(full_dataset))\n",
    "    indices = torch.randperm(len(full_dataset))\n",
    "    train_subset = torch.utils.data.Subset(full_dataset, indices[:train_size])\n",
    "    test_subset = torch.utils.data.Subset(full_dataset, indices[train_size:])\n",
    "    train_dataloaders[(subject_id, trial_id)] = DataLoader(train_subset, batch_size=batch_size, shuffle=False, drop_last=True, pin_memory=True)\n",
    "    test_dataloaders[(subject_id, trial_id)] = DataLoader(test_subset, batch_size=batch_size, shuffle=False, drop_last=True, pin_memory=True)\n",
    "    print(\"Loaded train and test dataloaders for subject\", subject_id, \"trial\", trial_id)\n",
    "\n",
    "_backbone = BrainTreebankSubjectTrialBenchmarkDatasetBackbone(subject_id, trial_id, dtype, \n",
    "                                                               transformer_config['max_n_time_bins'], spectrogram=transformer_config['spectrogram'])\n",
    "eval_datasets = [\n",
    "    BrainTreebankSubjectTrialBenchmarkDataset(\n",
    "        subject_id=subject_id, trial_id=trial_id, dtype=dtype,\n",
    "        n_time_bins=transformer_config['max_n_time_bins'], spectrogram=transformer_config['spectrogram'],\n",
    "        eval_name=eval_name, backbone=_backbone\n",
    "    ) for subject_id, trial_id in training_config['eval_subject_trials'] for eval_name in [\"rms\", \"pitch\", \"onset\", \"speech\"]\n",
    "]\n",
    "eval_dataloaders = [DataLoader(eval_datasets[i], batch_size=100, shuffle=False, pin_memory=True) for i in range(len(eval_datasets))]\n",
    "print(\"Loaded eval dataloaders\")"
   ]
  },
  {
   "cell_type": "code",
   "execution_count": 19,
   "metadata": {},
   "outputs": [],
   "source": [
    "def eval_model(model, dataloader, test_size=0.2, token_id=-1):\n",
    "    subject_id = dataloader.dataset.backbone.subject_id\n",
    "    eo_store, to_store, label_store = [], [], []\n",
    "    for batch_input, batch_label in dataloader:\n",
    "        batch_size, n_time_bins, n_electrodes, dim_input = batch_input.shape\n",
    "        permutation = torch.randperm(n_electrodes) #XXX\n",
    "        batch_input = batch_input[:, :, permutation, :transformer_config['dim_input']].to(device, dtype=transformer_config['dtype'])\n",
    "        batch_embeddings = electrode_embeddings(subject_id, permutation=permutation)\n",
    "        eo, to = model(batch_input, batch_embeddings) # shape: (batch_size, n_time_bins, dim_output)\n",
    "        if token_id == -2:\n",
    "            eo = eo.reshape(batch_size, -1)  # Flatten all time steps into one vector\n",
    "            to = to.reshape(batch_size, -1)\n",
    "        elif token_id == -1:\n",
    "            eo = eo.mean(dim=1)\n",
    "            to = to.mean(dim=1)\n",
    "        else:\n",
    "            eo = eo[:, token_id]\n",
    "            to = to[:, token_id]\n",
    "        eo_store.append(eo.detach().cpu().float().numpy())\n",
    "        to_store.append(to.detach().cpu().float().numpy())\n",
    "        label_store.append(batch_label.detach().cpu().numpy())\n",
    "    eo_store = np.concatenate(eo_store)\n",
    "    to_store = np.concatenate(to_store)\n",
    "    label_store = np.concatenate(label_store)\n",
    "\n",
    "    eval_results = {}\n",
    "    train_size = int(len(eo_store) * (1-test_size))\n",
    "    for feature_name, feature_store in [(\"electrode\", eo_store), (\"time\", to_store)]:\n",
    "        regressor = sklearn.linear_model.LogisticRegression(max_iter=10000)\n",
    "        regressor.fit(feature_store[:train_size], label_store[:train_size])\n",
    "        regressor_pred = regressor.predict_proba(feature_store[train_size:])[:, 1]\n",
    "        regressor_pred_class = regressor.predict(feature_store[train_size:])\n",
    "        eval_results[f\"eval/{subject_id}_{dataloader.dataset.eval_name}_{feature_name}_roc\"] = sklearn.metrics.roc_auc_score(label_store[train_size:], regressor_pred)\n",
    "        eval_results[f\"eval/{subject_id}_{dataloader.dataset.eval_name}_{feature_name}_acc\"] = sklearn.metrics.accuracy_score(label_store[train_size:], regressor_pred_class)\n",
    "    return eval_results\n",
    "\n",
    "expanded_arange = torch.arange(batch_size).unsqueeze(0).repeat(transformer_config['max_n_time_bins']-1, 1).to(device, dtype=torch.long).reshape(-1)\n",
    "def calculate_loss(model, batch, subject_id):\n",
    "    n_electrodes = subjects[subject_id].get_n_electrodes()\n",
    "    permutation = torch.randperm(n_electrodes)\n",
    "\n",
    "    # batch shape: (batch_size, n_time_bins, n_electrodes, SPECTROGRAM_DIMENSIONALITY or N_PER_SEG)\n",
    "    batch = batch[:, :, permutation, :transformer_config['dim_input']].to(device, dtype=transformer_config['dtype'])\n",
    "    batch_embeddings = electrode_embeddings(subject_id, permutation)\n",
    "\n",
    "    # all model outputs shape: (batch_size, n_time_bins, dim_output)\n",
    "    eo1, to1 = model(batch[:, :-1, :n_electrodes//2, :], batch_embeddings[:n_electrodes//2])\n",
    "    eo2, to2 = model(batch[:, 1:, n_electrodes//2:, :], batch_embeddings[n_electrodes//2:])\n",
    "\n",
    "    similarity = torch.matmul(to1[:, :].transpose(0, 1), eo2[:, :].permute(1, 2, 0)) * torch.exp(model.temperature_param)\n",
    "    return nn.functional.cross_entropy(similarity.view(-1, batch_size), expanded_arange)\n",
    "\n",
    "def test_model(model):\n",
    "    loss = 0\n",
    "    n_batches = 0\n",
    "    for subject_trial, dataloader in test_dataloaders.items():\n",
    "        subject_id = subject_trial[0]\n",
    "        for batch_i, batch in enumerate(dataloader):\n",
    "            loss += calculate_loss(model, batch, subject_id)\n",
    "        n_batches += len(dataloader)\n",
    "    return loss / n_batches"
   ]
  },
  {
   "cell_type": "code",
   "execution_count": 29,
   "metadata": {},
   "outputs": [],
   "source": [
    "dataloader_i = 1"
   ]
  },
  {
   "cell_type": "code",
   "execution_count": 30,
   "metadata": {},
   "outputs": [
    {
     "name": "stdout",
     "output_type": "stream",
     "text": [
      "Evaluated for token_id -2\n",
      "Evaluated for token_id -1\n",
      "Evaluated for token_id 12\n"
     ]
    }
   ],
   "source": [
    "import matplotlib.pyplot as plt\n",
    "\n",
    "# Create figures for each metric across token positions\n",
    "token_id_range = [-2, -1, 12]\n",
    "dataloader_metric_name = eval_dataloaders[dataloader_i].dataset.eval_name\n",
    "metrics = {\n",
    "    f'eval/3_{dataloader_metric_name}_electrode_roc': 'Electrode ROC AUC',\n",
    "    f'eval/3_{dataloader_metric_name}_electrode_acc': 'Electrode Accuracy', \n",
    "    f'eval/3_{dataloader_metric_name}_time_roc': 'Time ROC AUC',\n",
    "    f'eval/3_{dataloader_metric_name}_time_acc': 'Time Accuracy'\n",
    "}\n",
    "token_results = {key: [] for key in metrics.keys()}\n",
    "model.eval()\n",
    "for token_id in token_id_range:\n",
    "    # Collect results for each token position\n",
    "    with torch.no_grad():\n",
    "        results = eval_model(model, eval_dataloaders[dataloader_i], token_id=token_id)\n",
    "        print(\"Evaluated for token_id\", token_id)\n",
    "    for metric_key, metric_name in metrics.items():\n",
    "        token_results[metric_key].append(results[metric_key])"
   ]
  },
  {
   "cell_type": "code",
   "execution_count": 31,
   "metadata": {},
   "outputs": [
    {
     "data": {
      "image/png": "[encoded data removed]",
      "text/plain": [
       "<Figure size 1000x500 with 4 Axes>"
      ]
     },
     "metadata": {},
     "output_type": "display_data"
    }
   ],
   "source": [
    "# Plot results\n",
    "plot_color = 'blue'\n",
    "plt.figure(figsize=(10, 5))\n",
    "for i, (metric_key, metric_name) in enumerate(metrics.items(), 1):\n",
    "    plt.subplot(2, 2, i)\n",
    "    # Plot baseline point at x=-1 separately\n",
    "    #plt.plot([-1], [token_results[metric_key][0]], marker='o', color=plot_color)\n",
    "    # Plot rest of the points connected\n",
    "    plt.plot(token_id_range, token_results[metric_key][:], marker='o', color=plot_color)\n",
    "    # Add horizontal line at baseline value\n",
    "    plt.axhline(y=token_results[metric_key][0], color=plot_color, alpha=0.5, linestyle='--')\n",
    "    plt.axvline(x=7.5, color=\"black\", alpha=0.5, linestyle='--')\n",
    "    plt.grid(True)\n",
    "    plt.xlabel('Token Position')\n",
    "    plt.xticks([-1, 0, 8, 15, 23], ['', '-1s', 'onset', '+1s', '+2s'])\n",
    "    plt.ylabel(metric_name)\n",
    "    plt.suptitle(dataloader_metric_name)\n",
    "\n",
    "plt.tight_layout()\n",
    "#plt.savefig(f\"{dir_name}/token_position_metrics_{dataloader_metric_name}.pdf\")"
   ]
  },
  {
   "cell_type": "markdown",
   "metadata": {},
   "source": [
    "# Analysis of feature distance per epoch"
   ]
  },
  {
   "cell_type": "code",
   "execution_count": 18,
   "metadata": {},
   "outputs": [
    {
     "data": {
      "text/plain": [
       "array([  11,   21,   31,   41,   51,   61,   71,   91,  101,  121,  141,\n",
       "        171,  201,  231,  281,  321,  381,  451,  521,  621,  721,  851,\n",
       "       1001])"
      ]
     },
     "execution_count": 18,
     "metadata": {},
     "output_type": "execute_result"
    }
   ],
   "source": [
    "epoch_indices = np.unique(np.logspace(np.log10(1), np.log10(100), 30).astype(int) * 10 + 1)\n",
    "epoch_indices\n"
   ]
  },
  {
   "cell_type": "code",
   "execution_count": 19,
   "metadata": {},
   "outputs": [
    {
     "name": "stdout",
     "output_type": "stream",
     "text": [
      "EPOCH 11\n"
     ]
    },
    {
     "name": "stderr",
     "output_type": "stream",
     "text": [
      "/tmp/ipykernel_3936399/3479883418.py:6: FutureWarning: You are using `torch.load` with `weights_only=False` (the current default value), which uses the default pickle module implicitly. It is possible to construct malicious pickle data which will execute arbitrary code during unpickling (See https://github.com/pytorch/pytorch/blob/main/SECURITY.md#untrusted-models for more details). In a future release, the default value for `weights_only` will be flipped to `True`. This limits the functions that could be executed during unpickling. Arbitrary objects will no longer be allowed to be loaded via this mode unless they are explicitly allowlisted by the user via `torch.serialization.add_safe_globals`. We recommend you start setting `weights_only=True` for any use case where you don't have full control of the loaded file. Please open an issue on GitHub for any issues related to this experimental feature.\n",
      "  model.load_state_dict(torch.load(dir_name+\"/model_e\"+str(epoch_i)+\".pth\", map_location=device))\n",
      "/tmp/ipykernel_3936399/3479883418.py:7: FutureWarning: You are using `torch.load` with `weights_only=False` (the current default value), which uses the default pickle module implicitly. It is possible to construct malicious pickle data which will execute arbitrary code during unpickling (See https://github.com/pytorch/pytorch/blob/main/SECURITY.md#untrusted-models for more details). In a future release, the default value for `weights_only` will be flipped to `True`. This limits the functions that could be executed during unpickling. Arbitrary objects will no longer be allowed to be loaded via this mode unless they are explicitly allowlisted by the user via `torch.serialization.add_safe_globals`. We recommend you start setting `weights_only=True` for any use case where you don't have full control of the loaded file. Please open an issue on GitHub for any issues related to this experimental feature.\n",
      "  electrode_embeddings.load_state_dict(torch.load(dir_name+\"/model_electrode_embeddings_e\"+str(epoch_i)+\".pth\", map_location=device))\n"
     ]
    },
    {
     "name": "stdout",
     "output_type": "stream",
     "text": [
      "EPOCH 21\n",
      "EPOCH 31\n",
      "EPOCH 41\n",
      "EPOCH 51\n",
      "EPOCH 61\n",
      "EPOCH 71\n",
      "EPOCH 91\n",
      "EPOCH 101\n",
      "EPOCH 121\n",
      "EPOCH 141\n",
      "EPOCH 171\n",
      "EPOCH 201\n",
      "EPOCH 231\n",
      "EPOCH 281\n",
      "EPOCH 321\n",
      "EPOCH 381\n",
      "EPOCH 451\n",
      "EPOCH 521\n",
      "EPOCH 621\n",
      "EPOCH 721\n",
      "EPOCH 851\n",
      "EPOCH 1001\n"
     ]
    }
   ],
   "source": [
    "avg_distances = []\n",
    "avg_norms = []\n",
    "epoch_indices = np.unique(np.logspace(np.log10(1), np.log10(100), 30).astype(int) * 10 + 1)\n",
    "epoch_indices = [1] + list(epoch_indices)\n",
    "for epoch_i in epoch_indices:\n",
    "    print(f\"EPOCH {epoch_i}\")\n",
    "    model.load_state_dict(torch.load(dir_name+\"/model_e\"+str(epoch_i)+\".pth\", map_location=device))\n",
    "    electrode_embeddings.load_state_dict(torch.load(dir_name+\"/model_electrode_embeddings_e\"+str(epoch_i)+\".pth\", map_location=device))\n",
    "\n",
    "    model.train()\n",
    "    epoch_loss = 0\n",
    "    epoch_avg_distance = 0\n",
    "    epoch_avg_norm = 0\n",
    "\n",
    "    # Create iterators for each dataloader\n",
    "    iterators = {subject_trial: iter(dataloader) for subject_trial, dataloader in train_dataloaders.items()}\n",
    "    active_dataloaders = list(train_dataloaders.keys())\n",
    "    total_batches = sum(len(dl) for dl in train_dataloaders.values())\n",
    "    batch_i = 0\n",
    "\n",
    "    while active_dataloaders:\n",
    "        # Randomly select a dataloader that still has batches\n",
    "        subject_trial = active_dataloaders[np.random.randint(len(active_dataloaders))]\n",
    "        dataloader = train_dataloaders[subject_trial]\n",
    "        \n",
    "        try: batch = next(iterators[subject_trial])\n",
    "        except StopIteration: \n",
    "            active_dataloaders.remove(subject_trial) # Remove this dataloader from active set when depleted\n",
    "            continue\n",
    "        batch_i += 1\n",
    "\n",
    "        with torch.no_grad():\n",
    "            n_electrodes = subjects[subject_id].get_n_electrodes()\n",
    "            permutation = torch.randperm(n_electrodes)\n",
    "            # batch shape: (batch_size, n_time_bins, n_electrodes, SPECTROGRAM_DIMENSIONALITY or N_PER_SEG)\n",
    "            batch = batch[:, :, permutation, :transformer_config['dim_input']].to(device, dtype=transformer_config['dtype'], non_blocking=True)\n",
    "            batch_embeddings = electrode_embeddings(subject_id, permutation)\n",
    "            # all shape: (batch_size, n_time_bins, dim_output)\n",
    "            eo1, to1 = model(batch[:, :, :n_electrodes//2, :], batch_embeddings[:n_electrodes//2])\n",
    "            eo2, to2 = model(batch[:, :, n_electrodes//2:, :], batch_embeddings[n_electrodes//2:])\n",
    "            diff = to1.unsqueeze(1) - to1.unsqueeze(2) # shape: (batch_size*1*1, n_time_bins, n_time_bins, d_model)\n",
    "            distances = torch.norm(diff, dim=-1) # shape: (batch_size*1*1, n_time_bins, n_time_bins)\n",
    "            mask = ~torch.eye(distances.shape[1], dtype=torch.bool, device=distances.device)\n",
    "            avg_distance = distances[:, mask].mean().item()\n",
    "            avg_norm = torch.norm(to1, dim=-1).mean().item()\n",
    "            epoch_avg_distance += avg_distance\n",
    "            epoch_avg_norm += avg_norm\n",
    "    epoch_avg_distance /= total_batches\n",
    "    epoch_avg_norm /= total_batches\n",
    "    avg_distances.append(epoch_avg_distance)\n",
    "    avg_norms.append(epoch_avg_norm)"
   ]
  },
  {
   "cell_type": "code",
   "execution_count": 21,
   "metadata": {},
   "outputs": [
    {
     "name": "stdout",
     "output_type": "stream",
     "text": [
      "EPOCH 1\n"
     ]
    },
    {
     "name": "stderr",
     "output_type": "stream",
     "text": [
      "/tmp/ipykernel_3936399/3925403889.py:3: FutureWarning: You are using `torch.load` with `weights_only=False` (the current default value), which uses the default pickle module implicitly. It is possible to construct malicious pickle data which will execute arbitrary code during unpickling (See https://github.com/pytorch/pytorch/blob/main/SECURITY.md#untrusted-models for more details). In a future release, the default value for `weights_only` will be flipped to `True`. This limits the functions that could be executed during unpickling. Arbitrary objects will no longer be allowed to be loaded via this mode unless they are explicitly allowlisted by the user via `torch.serialization.add_safe_globals`. We recommend you start setting `weights_only=True` for any use case where you don't have full control of the loaded file. Please open an issue on GitHub for any issues related to this experimental feature.\n",
      "  model.load_state_dict(torch.load(dir_name+\"/model_e\"+str(epoch_i)+\".pth\", map_location=device))\n",
      "/tmp/ipykernel_3936399/3925403889.py:4: FutureWarning: You are using `torch.load` with `weights_only=False` (the current default value), which uses the default pickle module implicitly. It is possible to construct malicious pickle data which will execute arbitrary code during unpickling (See https://github.com/pytorch/pytorch/blob/main/SECURITY.md#untrusted-models for more details). In a future release, the default value for `weights_only` will be flipped to `True`. This limits the functions that could be executed during unpickling. Arbitrary objects will no longer be allowed to be loaded via this mode unless they are explicitly allowlisted by the user via `torch.serialization.add_safe_globals`. We recommend you start setting `weights_only=True` for any use case where you don't have full control of the loaded file. Please open an issue on GitHub for any issues related to this experimental feature.\n",
      "  electrode_embeddings.load_state_dict(torch.load(dir_name+\"/model_electrode_embeddings_e\"+str(epoch_i)+\".pth\", map_location=device))\n"
     ]
    }
   ],
   "source": [
    "for epoch_i in [1]:\n",
    "    print(f\"EPOCH {epoch_i}\")\n",
    "    model.load_state_dict(torch.load(dir_name+\"/model_e\"+str(epoch_i)+\".pth\", map_location=device))\n",
    "    electrode_embeddings.load_state_dict(torch.load(dir_name+\"/model_electrode_embeddings_e\"+str(epoch_i)+\".pth\", map_location=device))\n",
    "\n",
    "    model.train()\n",
    "    epoch_loss = 0\n",
    "    epoch_avg_distance = 0\n",
    "    epoch_avg_norm = 0\n",
    "\n",
    "    # Create iterators for each dataloader\n",
    "    iterators = {subject_trial: iter(dataloader) for subject_trial, dataloader in train_dataloaders.items()}\n",
    "    active_dataloaders = list(train_dataloaders.keys())\n",
    "    total_batches = sum(len(dl) for dl in train_dataloaders.values())\n",
    "    batch_i = 0\n",
    "\n",
    "    while active_dataloaders:\n",
    "        # Randomly select a dataloader that still has batches\n",
    "        subject_trial = active_dataloaders[np.random.randint(len(active_dataloaders))]\n",
    "        dataloader = train_dataloaders[subject_trial]\n",
    "        \n",
    "        try: batch = next(iterators[subject_trial])\n",
    "        except StopIteration: \n",
    "            active_dataloaders.remove(subject_trial) # Remove this dataloader from active set when depleted\n",
    "            continue\n",
    "        batch_i += 1\n",
    "\n",
    "        with torch.no_grad():\n",
    "            n_electrodes = subjects[subject_id].get_n_electrodes()\n",
    "            permutation = torch.randperm(n_electrodes)\n",
    "            # batch shape: (batch_size, n_time_bins, n_electrodes, SPECTROGRAM_DIMENSIONALITY or N_PER_SEG)\n",
    "            batch = batch[:, :, permutation, :transformer_config['dim_input']].to(device, dtype=transformer_config['dtype'], non_blocking=True)\n",
    "            batch_embeddings = electrode_embeddings(subject_id, permutation)\n",
    "            # all shape: (batch_size, n_time_bins, dim_output)\n",
    "            eo1, to1 = model(batch[:, :, :n_electrodes//2, :], batch_embeddings[:n_electrodes//2])\n",
    "            eo2, to2 = model(batch[:, :, n_electrodes//2:, :], batch_embeddings[n_electrodes//2:])\n",
    "            diff = to1.unsqueeze(1) - to1.unsqueeze(2) # shape: (batch_size*1*1, n_time_bins, n_time_bins, d_model)\n",
    "            distances = torch.norm(diff, dim=-1) # shape: (batch_size*1*1, n_time_bins, n_time_bins)\n",
    "            mask = ~torch.eye(distances.shape[1], dtype=torch.bool, device=distances.device)\n",
    "            avg_distance = distances[:, mask].mean().item()\n",
    "            avg_norm = torch.norm(to1, dim=-1).mean().item()\n",
    "            epoch_avg_distance += avg_distance\n",
    "            epoch_avg_norm += avg_norm\n",
    "    epoch_avg_distance /= total_batches\n",
    "    epoch_avg_norm /= total_batches\n",
    "    avg_distances.insert(0, epoch_avg_distance)\n",
    "    avg_norms.insert(0, epoch_avg_norm)"
   ]
  },
  {
   "cell_type": "code",
   "execution_count": 23,
   "metadata": {},
   "outputs": [
    {
     "name": "stderr",
     "output_type": "stream",
     "text": [
      "findfont: Font family 'Arial' not found.\n",
      "findfont: Font family 'Arial' not found.\n",
      "findfont: Font family 'Arial' not found.\n",
      "findfont: Font family 'Arial' not found.\n",
      "findfont: Font family 'Arial' not found.\n",
      "findfont: Font family 'Arial' not found.\n",
      "findfont: Font family 'Arial' not found.\n",
      "findfont: Font family 'Arial' not found.\n",
      "findfont: Font family 'Arial' not found.\n",
      "findfont: Font family 'Arial' not found.\n",
      "findfont: Font family 'Arial' not found.\n",
      "findfont: Font family 'Arial' not found.\n",
      "findfont: Font family 'Arial' not found.\n",
      "findfont: Font family 'Arial' not found.\n",
      "findfont: Font family 'Arial' not found.\n",
      "findfont: Font family 'Arial' not found.\n",
      "findfont: Font family 'Arial' not found.\n",
      "findfont: Font family 'Arial' not found.\n",
      "findfont: Font family 'Arial' not found.\n",
      "findfont: Font family 'Arial' not found.\n",
      "findfont: Font family 'Arial' not found.\n",
      "findfont: Font family 'Arial' not found.\n",
      "findfont: Font family 'Arial' not found.\n",
      "findfont: Font family 'Arial' not found.\n",
      "findfont: Font family 'Arial' not found.\n",
      "findfont: Font family 'Arial' not found.\n",
      "findfont: Font family 'Arial' not found.\n",
      "findfont: Font family 'Arial' not found.\n",
      "findfont: Font family 'Arial' not found.\n",
      "findfont: Font family 'Arial' not found.\n",
      "findfont: Font family 'Arial' not found.\n",
      "findfont: Font family 'Arial' not found.\n",
      "findfont: Font family 'Arial' not found.\n",
      "findfont: Font family 'Arial' not found.\n",
      "findfont: Font family 'Arial' not found.\n",
      "findfont: Font family 'Arial' not found.\n",
      "findfont: Font family 'Arial' not found.\n",
      "findfont: Font family 'Arial' not found.\n",
      "findfont: Font family 'Arial' not found.\n",
      "findfont: Font family 'Arial' not found.\n",
      "findfont: Font family 'Arial' not found.\n",
      "findfont: Font family 'Arial' not found.\n",
      "findfont: Font family 'Arial' not found.\n",
      "findfont: Font family 'Arial' not found.\n",
      "findfont: Font family 'Arial' not found.\n",
      "findfont: Font family 'Arial' not found.\n",
      "findfont: Font family 'Arial' not found.\n",
      "findfont: Font family 'Arial' not found.\n",
      "findfont: Font family 'Arial' not found.\n",
      "findfont: Font family 'Arial' not found.\n",
      "findfont: Font family 'Arial' not found.\n",
      "findfont: Font family 'Arial' not found.\n",
      "findfont: Font family 'Arial' not found.\n",
      "findfont: Font family 'Arial' not found.\n",
      "findfont: Font family 'Arial' not found.\n",
      "findfont: Font family 'Arial' not found.\n",
      "findfont: Font family 'Arial' not found.\n",
      "findfont: Font family 'Arial' not found.\n",
      "findfont: Font family 'Arial' not found.\n",
      "findfont: Font family 'Arial' not found.\n",
      "findfont: Font family 'Arial' not found.\n",
      "findfont: Font family 'Arial' not found.\n"
     ]
    },
    {
     "name": "stderr",
     "output_type": "stream",
     "text": [
      "findfont: Font family 'Arial' not found.\n",
      "findfont: Font family 'Arial' not found.\n",
      "findfont: Font family 'Arial' not found.\n",
      "findfont: Font family 'Arial' not found.\n",
      "findfont: Font family 'Arial' not found.\n",
      "findfont: Font family 'Arial' not found.\n",
      "findfont: Font family 'Arial' not found.\n",
      "findfont: Font family 'Arial' not found.\n",
      "findfont: Font family 'Arial' not found.\n",
      "findfont: Font family 'Arial' not found.\n",
      "findfont: Font family 'Arial' not found.\n",
      "findfont: Font family 'Arial' not found.\n",
      "findfont: Font family 'Arial' not found.\n",
      "findfont: Font family 'Arial' not found.\n",
      "findfont: Font family 'Arial' not found.\n",
      "findfont: Font family 'Arial' not found.\n",
      "findfont: Font family 'Arial' not found.\n",
      "findfont: Font family 'Arial' not found.\n",
      "findfont: Font family 'Arial' not found.\n",
      "findfont: Font family 'Arial' not found.\n",
      "findfont: Font family 'Arial' not found.\n",
      "findfont: Font family 'Arial' not found.\n",
      "findfont: Font family 'Arial' not found.\n",
      "findfont: Font family 'Arial' not found.\n",
      "findfont: Font family 'Arial' not found.\n",
      "findfont: Font family 'Arial' not found.\n",
      "findfont: Font family 'Arial' not found.\n",
      "findfont: Font family 'Arial' not found.\n",
      "findfont: Font family 'Arial' not found.\n",
      "findfont: Font family 'Arial' not found.\n",
      "findfont: Font family 'Arial' not found.\n",
      "findfont: Font family 'Arial' not found.\n",
      "findfont: Font family 'Arial' not found.\n",
      "findfont: Font family 'Arial' not found.\n",
      "findfont: Font family 'Arial' not found.\n",
      "findfont: Font family 'Arial' not found.\n",
      "findfont: Font family 'Arial' not found.\n",
      "findfont: Font family 'Arial' not found.\n",
      "findfont: Font family 'Arial' not found.\n",
      "findfont: Font family 'Arial' not found.\n",
      "findfont: Font family 'Arial' not found.\n",
      "findfont: Font family 'Arial' not found.\n",
      "findfont: Font family 'Arial' not found.\n",
      "findfont: Font family 'Arial' not found.\n",
      "findfont: Font family 'Arial' not found.\n",
      "findfont: Font family 'Arial' not found.\n",
      "findfont: Font family 'Arial' not found.\n",
      "findfont: Font family 'Arial' not found.\n",
      "findfont: Font family 'Arial' not found.\n",
      "findfont: Font family 'Arial' not found.\n",
      "findfont: Font family 'Arial' not found.\n",
      "findfont: Font family 'Arial' not found.\n",
      "findfont: Font family 'Arial' not found.\n",
      "findfont: Font family 'Arial' not found.\n",
      "findfont: Font family 'Arial' not found.\n",
      "findfont: Font family 'Arial' not found.\n",
      "findfont: Font family 'Arial' not found.\n",
      "findfont: Font family 'Arial' not found.\n",
      "findfont: Font family 'Arial' not found.\n",
      "findfont: Font family 'Arial' not found.\n",
      "findfont: Font family 'Arial' not found.\n",
      "findfont: Font family 'Arial' not found.\n"
     ]
    },
    {
     "data": {
      "image/png": "[encoded data removed]",
      "text/plain": [
       "<Figure size 300x200 with 1 Axes>"
      ]
     },
     "metadata": {},
     "output_type": "display_data"
    }
   ],
   "source": [
    "import matplotlib.pyplot as plt\n",
    "\n",
    "plt.figure(figsize=(3.0, 2))\n",
    "plt.rcParams.update({'font.family': 'Arial', 'font.size': 12})\n",
    "\n",
    "epochs = [1] + list(epoch_indices)\n",
    "\n",
    "plt.plot(epochs, avg_distances, color='black', linewidth=3, label='distance')\n",
    "plt.plot(epochs, avg_norms, color='gray', linewidth=3, label='norm')\n",
    "\n",
    "plt.ylabel('distance/norm')\n",
    "plt.xlabel('epoch')\n",
    "plt.grid(True)\n",
    "plt.xscale('log')\n",
    "plt.xlim(1, 1000)\n",
    "plt.xticks([10, 100, 1000], ['10', '100', '1k'])\n",
    "plt.legend()\n",
    "\n",
    "plt.savefig(f\"{dir_name}/distances_and_norms.pdf\", bbox_inches='tight')\n",
    "plt.show()"
   ]
  },
  {
   "cell_type": "code",
   "execution_count": 8,
   "metadata": {},
   "outputs": [
    {
     "data": {
      "text/plain": [
       "(12.747321428571428, 11.958928571428572)"
      ]
     },
     "execution_count": 8,
     "metadata": {},
     "output_type": "execute_result"
    }
   ],
   "source": []
  },
  {
   "cell_type": "code",
   "execution_count": null,
   "metadata": {},
   "outputs": [],
   "source": []
  }
 ],
 "metadata": {
  "kernelspec": {
   "display_name": "Python 3 (ipykernel)",
   "language": "python",
   "name": "python3"
  }
 },
 "nbformat": 4,
 "nbformat_minor": 4
}
